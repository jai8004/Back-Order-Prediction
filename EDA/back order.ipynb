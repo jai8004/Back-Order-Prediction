{
 "cells": [
  {
   "cell_type": "code",
   "execution_count": 2,
   "metadata": {},
   "outputs": [],
   "source": [
    "import pandas as pd\n",
    "import numpy as np\n",
    "import seaborn as sns\n",
    "import matplotlib.pyplot as plot"
   ]
  },
  {
   "cell_type": "code",
   "execution_count": 3,
   "metadata": {},
   "outputs": [],
   "source": [
    "data = pd.read_csv(\"back_order.csv\")"
   ]
  },
  {
   "cell_type": "code",
   "execution_count": 4,
   "metadata": {},
   "outputs": [
    {
     "output_type": "execute_result",
     "data": {
      "text/plain": [
       "   Unnamed: 0      sku  national_inv  lead_time  in_transit_qty  \\\n",
       "0           0  3352105           0.0        NaN             0.0   \n",
       "1           1  3403239           6.0        NaN             0.0   \n",
       "2           2  3286560           0.0        2.0             0.0   \n",
       "3           3  3299078           7.0        8.0             0.0   \n",
       "4           4  3314098           0.0        8.0             0.0   \n",
       "5           5  3316047           0.0        4.0             0.0   \n",
       "6           6  3317147           0.0        8.0             0.0   \n",
       "7           7  3319588           0.0        8.0             0.0   \n",
       "8           8  3323488           0.0        2.0             0.0   \n",
       "9           9  3325147           3.0        8.0             0.0   \n",
       "\n",
       "   forecast_3_month  forecast_6_month  forecast_9_month  sales_1_month  \\\n",
       "0               0.0               0.0               0.0            0.0   \n",
       "1               0.0               0.0               0.0            0.0   \n",
       "2               4.0               7.0               7.0            0.0   \n",
       "3              11.0              27.0              47.0            2.0   \n",
       "4               9.0              14.0              16.0            0.0   \n",
       "5              10.0              10.0              10.0            0.0   \n",
       "6               2.0               3.0               4.0            0.0   \n",
       "7              22.0              44.0              60.0            0.0   \n",
       "8              16.0              16.0              16.0            9.0   \n",
       "9              25.0              39.0              53.0           11.0   \n",
       "\n",
       "   sales_3_month  ...  pieces_past_due  perf_6_month_avg  perf_12_month_avg  \\\n",
       "0            0.0  ...              0.0            -99.00             -99.00   \n",
       "1            0.0  ...              0.0            -99.00             -99.00   \n",
       "2            0.0  ...              0.0              0.70               0.73   \n",
       "3            2.0  ...              0.0              0.70               0.73   \n",
       "4            0.0  ...              0.0              0.95               0.94   \n",
       "5            0.0  ...              0.0              0.57               0.68   \n",
       "6            1.0  ...              0.0              0.56               0.68   \n",
       "7            0.0  ...              0.0              0.83               0.91   \n",
       "8           21.0  ...              0.0              0.97               0.96   \n",
       "9           22.0  ...              0.0              0.51               0.57   \n",
       "\n",
       "  local_bo_qty  deck_risk  oe_constraint  ppap_risk  stop_auto_buy rev_stop  \\\n",
       "0          0.0         No             No         No            Yes       No   \n",
       "1          0.0         No             No         No            Yes       No   \n",
       "2          0.0         No             No         No            Yes       No   \n",
       "3          0.0         No             No         No            Yes       No   \n",
       "4          0.0         No             No         No            Yes       No   \n",
       "5          0.0        Yes             No         No            Yes       No   \n",
       "6          0.0         No             No         No            Yes       No   \n",
       "7          0.0         No             No         No            Yes       No   \n",
       "8          0.0         No             No         No            Yes       No   \n",
       "9          0.0         No             No         No            Yes       No   \n",
       "\n",
       "  went_on_backorder  \n",
       "0               Yes  \n",
       "1               Yes  \n",
       "2               Yes  \n",
       "3               Yes  \n",
       "4               Yes  \n",
       "5               Yes  \n",
       "6               Yes  \n",
       "7               Yes  \n",
       "8               Yes  \n",
       "9               Yes  \n",
       "\n",
       "[10 rows x 24 columns]"
      ],
      "text/html": "<div>\n<style scoped>\n    .dataframe tbody tr th:only-of-type {\n        vertical-align: middle;\n    }\n\n    .dataframe tbody tr th {\n        vertical-align: top;\n    }\n\n    .dataframe thead th {\n        text-align: right;\n    }\n</style>\n<table border=\"1\" class=\"dataframe\">\n  <thead>\n    <tr style=\"text-align: right;\">\n      <th></th>\n      <th>Unnamed: 0</th>\n      <th>sku</th>\n      <th>national_inv</th>\n      <th>lead_time</th>\n      <th>in_transit_qty</th>\n      <th>forecast_3_month</th>\n      <th>forecast_6_month</th>\n      <th>forecast_9_month</th>\n      <th>sales_1_month</th>\n      <th>sales_3_month</th>\n      <th>...</th>\n      <th>pieces_past_due</th>\n      <th>perf_6_month_avg</th>\n      <th>perf_12_month_avg</th>\n      <th>local_bo_qty</th>\n      <th>deck_risk</th>\n      <th>oe_constraint</th>\n      <th>ppap_risk</th>\n      <th>stop_auto_buy</th>\n      <th>rev_stop</th>\n      <th>went_on_backorder</th>\n    </tr>\n  </thead>\n  <tbody>\n    <tr>\n      <th>0</th>\n      <td>0</td>\n      <td>3352105</td>\n      <td>0.0</td>\n      <td>NaN</td>\n      <td>0.0</td>\n      <td>0.0</td>\n      <td>0.0</td>\n      <td>0.0</td>\n      <td>0.0</td>\n      <td>0.0</td>\n      <td>...</td>\n      <td>0.0</td>\n      <td>-99.00</td>\n      <td>-99.00</td>\n      <td>0.0</td>\n      <td>No</td>\n      <td>No</td>\n      <td>No</td>\n      <td>Yes</td>\n      <td>No</td>\n      <td>Yes</td>\n    </tr>\n    <tr>\n      <th>1</th>\n      <td>1</td>\n      <td>3403239</td>\n      <td>6.0</td>\n      <td>NaN</td>\n      <td>0.0</td>\n      <td>0.0</td>\n      <td>0.0</td>\n      <td>0.0</td>\n      <td>0.0</td>\n      <td>0.0</td>\n      <td>...</td>\n      <td>0.0</td>\n      <td>-99.00</td>\n      <td>-99.00</td>\n      <td>0.0</td>\n      <td>No</td>\n      <td>No</td>\n      <td>No</td>\n      <td>Yes</td>\n      <td>No</td>\n      <td>Yes</td>\n    </tr>\n    <tr>\n      <th>2</th>\n      <td>2</td>\n      <td>3286560</td>\n      <td>0.0</td>\n      <td>2.0</td>\n      <td>0.0</td>\n      <td>4.0</td>\n      <td>7.0</td>\n      <td>7.0</td>\n      <td>0.0</td>\n      <td>0.0</td>\n      <td>...</td>\n      <td>0.0</td>\n      <td>0.70</td>\n      <td>0.73</td>\n      <td>0.0</td>\n      <td>No</td>\n      <td>No</td>\n      <td>No</td>\n      <td>Yes</td>\n      <td>No</td>\n      <td>Yes</td>\n    </tr>\n    <tr>\n      <th>3</th>\n      <td>3</td>\n      <td>3299078</td>\n      <td>7.0</td>\n      <td>8.0</td>\n      <td>0.0</td>\n      <td>11.0</td>\n      <td>27.0</td>\n      <td>47.0</td>\n      <td>2.0</td>\n      <td>2.0</td>\n      <td>...</td>\n      <td>0.0</td>\n      <td>0.70</td>\n      <td>0.73</td>\n      <td>0.0</td>\n      <td>No</td>\n      <td>No</td>\n      <td>No</td>\n      <td>Yes</td>\n      <td>No</td>\n      <td>Yes</td>\n    </tr>\n    <tr>\n      <th>4</th>\n      <td>4</td>\n      <td>3314098</td>\n      <td>0.0</td>\n      <td>8.0</td>\n      <td>0.0</td>\n      <td>9.0</td>\n      <td>14.0</td>\n      <td>16.0</td>\n      <td>0.0</td>\n      <td>0.0</td>\n      <td>...</td>\n      <td>0.0</td>\n      <td>0.95</td>\n      <td>0.94</td>\n      <td>0.0</td>\n      <td>No</td>\n      <td>No</td>\n      <td>No</td>\n      <td>Yes</td>\n      <td>No</td>\n      <td>Yes</td>\n    </tr>\n    <tr>\n      <th>5</th>\n      <td>5</td>\n      <td>3316047</td>\n      <td>0.0</td>\n      <td>4.0</td>\n      <td>0.0</td>\n      <td>10.0</td>\n      <td>10.0</td>\n      <td>10.0</td>\n      <td>0.0</td>\n      <td>0.0</td>\n      <td>...</td>\n      <td>0.0</td>\n      <td>0.57</td>\n      <td>0.68</td>\n      <td>0.0</td>\n      <td>Yes</td>\n      <td>No</td>\n      <td>No</td>\n      <td>Yes</td>\n      <td>No</td>\n      <td>Yes</td>\n    </tr>\n    <tr>\n      <th>6</th>\n      <td>6</td>\n      <td>3317147</td>\n      <td>0.0</td>\n      <td>8.0</td>\n      <td>0.0</td>\n      <td>2.0</td>\n      <td>3.0</td>\n      <td>4.0</td>\n      <td>0.0</td>\n      <td>1.0</td>\n      <td>...</td>\n      <td>0.0</td>\n      <td>0.56</td>\n      <td>0.68</td>\n      <td>0.0</td>\n      <td>No</td>\n      <td>No</td>\n      <td>No</td>\n      <td>Yes</td>\n      <td>No</td>\n      <td>Yes</td>\n    </tr>\n    <tr>\n      <th>7</th>\n      <td>7</td>\n      <td>3319588</td>\n      <td>0.0</td>\n      <td>8.0</td>\n      <td>0.0</td>\n      <td>22.0</td>\n      <td>44.0</td>\n      <td>60.0</td>\n      <td>0.0</td>\n      <td>0.0</td>\n      <td>...</td>\n      <td>0.0</td>\n      <td>0.83</td>\n      <td>0.91</td>\n      <td>0.0</td>\n      <td>No</td>\n      <td>No</td>\n      <td>No</td>\n      <td>Yes</td>\n      <td>No</td>\n      <td>Yes</td>\n    </tr>\n    <tr>\n      <th>8</th>\n      <td>8</td>\n      <td>3323488</td>\n      <td>0.0</td>\n      <td>2.0</td>\n      <td>0.0</td>\n      <td>16.0</td>\n      <td>16.0</td>\n      <td>16.0</td>\n      <td>9.0</td>\n      <td>21.0</td>\n      <td>...</td>\n      <td>0.0</td>\n      <td>0.97</td>\n      <td>0.96</td>\n      <td>0.0</td>\n      <td>No</td>\n      <td>No</td>\n      <td>No</td>\n      <td>Yes</td>\n      <td>No</td>\n      <td>Yes</td>\n    </tr>\n    <tr>\n      <th>9</th>\n      <td>9</td>\n      <td>3325147</td>\n      <td>3.0</td>\n      <td>8.0</td>\n      <td>0.0</td>\n      <td>25.0</td>\n      <td>39.0</td>\n      <td>53.0</td>\n      <td>11.0</td>\n      <td>22.0</td>\n      <td>...</td>\n      <td>0.0</td>\n      <td>0.51</td>\n      <td>0.57</td>\n      <td>0.0</td>\n      <td>No</td>\n      <td>No</td>\n      <td>No</td>\n      <td>Yes</td>\n      <td>No</td>\n      <td>Yes</td>\n    </tr>\n  </tbody>\n</table>\n<p>10 rows × 24 columns</p>\n</div>"
     },
     "metadata": {},
     "execution_count": 4
    }
   ],
   "source": [
    "data.head(10)"
   ]
  },
  {
   "cell_type": "code",
   "execution_count": 5,
   "metadata": {},
   "outputs": [
    {
     "output_type": "stream",
     "name": "stdout",
     "text": [
      "<class 'pandas.core.frame.DataFrame'>\nRangeIndex: 9688 entries, 0 to 9687\nData columns (total 24 columns):\nUnnamed: 0           9688 non-null int64\nsku                  9688 non-null int64\nnational_inv         9688 non-null float64\nlead_time            8473 non-null float64\nin_transit_qty       9688 non-null float64\nforecast_3_month     9688 non-null float64\nforecast_6_month     9688 non-null float64\nforecast_9_month     9688 non-null float64\nsales_1_month        9688 non-null float64\nsales_3_month        9688 non-null float64\nsales_6_month        9688 non-null float64\nsales_9_month        9688 non-null float64\nmin_bank             9688 non-null float64\npotential_issue      9688 non-null object\npieces_past_due      9688 non-null float64\nperf_6_month_avg     9688 non-null float64\nperf_12_month_avg    9688 non-null float64\nlocal_bo_qty         9688 non-null float64\ndeck_risk            9688 non-null object\noe_constraint        9688 non-null object\nppap_risk            9688 non-null object\nstop_auto_buy        9688 non-null object\nrev_stop             9688 non-null object\nwent_on_backorder    9688 non-null object\ndtypes: float64(15), int64(2), object(7)\nmemory usage: 1.8+ MB\n"
     ]
    }
   ],
   "source": [
    "data.info()"
   ]
  },
  {
   "cell_type": "code",
   "execution_count": 6,
   "metadata": {},
   "outputs": [
    {
     "output_type": "stream",
     "name": "stdout",
     "text": [
      "9688\n9688\n1096\n25\n472\n990\n1246\n1421\n609\n1008\n1317\n1501\n581\n2\n290\n101\n102\n90\n2\n2\n2\n2\n2\n2\n"
     ]
    }
   ],
   "source": [
    "#checking how many unique values are in columns\n",
    "for col in data.columns:\n",
    "    print(len(data[col].unique()))"
   ]
  },
  {
   "cell_type": "code",
   "execution_count": 7,
   "metadata": {},
   "outputs": [],
   "source": [
    "# for i in data.columns:\n",
    "#     for j in data[i]:\n",
    "#         print(i,\"          \" ,type(j))\n",
    "#         break"
   ]
  },
  {
   "cell_type": "code",
   "execution_count": 8,
   "metadata": {},
   "outputs": [],
   "source": [
    "str_col = [\"potential_issue\",\"deck_risk\",\"oe_constraint\",\"ppap_risk\",\"stop_auto_buy\",\"rev_stop\",\"went_on_backorder\"]"
   ]
  },
  {
   "cell_type": "code",
   "execution_count": 9,
   "metadata": {},
   "outputs": [
    {
     "output_type": "stream",
     "name": "stdout",
     "text": [
      "['No' 'Yes']\n['No' 'Yes']\n['No' 'Yes']\n['No' 'Yes']\n['Yes' 'No']\n['No' 'Yes']\n['Yes' 'No']\n"
     ]
    }
   ],
   "source": [
    "for col in str_col:\n",
    "    print(data[col].unique())"
   ]
  },
  {
   "cell_type": "code",
   "execution_count": 10,
   "metadata": {},
   "outputs": [],
   "source": [
    "#encoding categorical values\n",
    "for col in str_col:\n",
    "    data[col] = data[col].map({\"Yes\" : 0, \"No\" : 1})"
   ]
  },
  {
   "cell_type": "code",
   "execution_count": 11,
   "metadata": {},
   "outputs": [
    {
     "output_type": "stream",
     "name": "stdout",
     "text": [
      "<class 'pandas.core.frame.DataFrame'>\nRangeIndex: 9688 entries, 0 to 9687\nData columns (total 24 columns):\nUnnamed: 0           9688 non-null int64\nsku                  9688 non-null int64\nnational_inv         9688 non-null float64\nlead_time            8473 non-null float64\nin_transit_qty       9688 non-null float64\nforecast_3_month     9688 non-null float64\nforecast_6_month     9688 non-null float64\nforecast_9_month     9688 non-null float64\nsales_1_month        9688 non-null float64\nsales_3_month        9688 non-null float64\nsales_6_month        9688 non-null float64\nsales_9_month        9688 non-null float64\nmin_bank             9688 non-null float64\npotential_issue      9688 non-null int64\npieces_past_due      9688 non-null float64\nperf_6_month_avg     9688 non-null float64\nperf_12_month_avg    9688 non-null float64\nlocal_bo_qty         9688 non-null float64\ndeck_risk            9688 non-null int64\noe_constraint        9688 non-null int64\nppap_risk            9688 non-null int64\nstop_auto_buy        9688 non-null int64\nrev_stop             9688 non-null int64\nwent_on_backorder    9688 non-null int64\ndtypes: float64(15), int64(9)\nmemory usage: 1.8 MB\n"
     ]
    }
   ],
   "source": [
    "data.info()"
   ]
  },
  {
   "cell_type": "code",
   "execution_count": 12,
   "metadata": {},
   "outputs": [
    {
     "output_type": "execute_result",
     "data": {
      "text/plain": [
       "array([0, 1], dtype=int64)"
      ]
     },
     "metadata": {},
     "execution_count": 12
    }
   ],
   "source": [
    "data['went_on_backorder'].unique()"
   ]
  },
  {
   "cell_type": "code",
   "execution_count": 13,
   "metadata": {},
   "outputs": [
    {
     "output_type": "execute_result",
     "data": {
      "text/plain": [
       "        Unnamed: 0           sku   national_inv    lead_time  in_transit_qty  \\\n",
       "count  9688.000000  9.688000e+03    9688.000000  8473.000000     9688.000000   \n",
       "mean   4843.500000  3.404617e+06     353.050268     7.081199       52.626755   \n",
       "std    2796.829038  6.930942e+04    4778.743675     5.755444      615.876767   \n",
       "min       0.000000  3.284951e+06   -2567.000000     0.000000        0.000000   \n",
       "25%    2421.750000  3.344886e+06       2.000000     2.000000        0.000000   \n",
       "50%    4843.500000  3.403785e+06       9.000000     8.000000        0.000000   \n",
       "75%    7265.250000  3.464248e+06      60.000000     8.000000        0.000000   \n",
       "max    9687.000000  3.526994e+06  389335.000000    52.000000    36334.000000   \n",
       "\n",
       "       forecast_3_month  forecast_6_month  forecast_9_month  sales_1_month  \\\n",
       "count      9.688000e+03      9.688000e+03      9.688000e+03    9688.000000   \n",
       "mean       4.749449e+02      8.732313e+02      1.256470e+03     108.548617   \n",
       "std        1.108316e+04      2.247367e+04      3.362884e+04    3140.316576   \n",
       "min        0.000000e+00      0.000000e+00      0.000000e+00       0.000000   \n",
       "25%        0.000000e+00      0.000000e+00      0.000000e+00       0.000000   \n",
       "50%        3.000000e+00      5.000000e+00      7.000000e+00       1.000000   \n",
       "75%        4.000000e+01      7.500000e+01      1.080000e+02      10.000000   \n",
       "max        1.021940e+06      2.094452e+06      3.162260e+06  299190.000000   \n",
       "\n",
       "       sales_3_month  ...  pieces_past_due  perf_6_month_avg  \\\n",
       "count   9.688000e+03  ...      9688.000000       9688.000000   \n",
       "mean    3.651058e+02  ...        37.424030        -14.037845   \n",
       "std     1.132033e+04  ...       886.372272         35.430540   \n",
       "min     0.000000e+00  ...         0.000000        -99.000000   \n",
       "25%     0.000000e+00  ...         0.000000          0.370000   \n",
       "50%     3.000000e+00  ...         0.000000          0.730000   \n",
       "75%     3.400000e+01  ...         0.000000          0.930000   \n",
       "max     1.086554e+06  ...     79964.000000          1.000000   \n",
       "\n",
       "       perf_12_month_avg  local_bo_qty    deck_risk  oe_constraint  \\\n",
       "count        9688.000000   9688.000000  9688.000000    9688.000000   \n",
       "mean          -13.718961      1.677230     0.805223       0.999690   \n",
       "std            35.111369     35.268733     0.396049       0.017595   \n",
       "min           -99.000000      0.000000     0.000000       0.000000   \n",
       "25%             0.410000      0.000000     1.000000       1.000000   \n",
       "50%             0.780000      0.000000     1.000000       1.000000   \n",
       "75%             0.910000      0.000000     1.000000       1.000000   \n",
       "max             1.000000   2837.000000     1.000000       1.000000   \n",
       "\n",
       "         ppap_risk  stop_auto_buy     rev_stop  went_on_backorder  \n",
       "count  9688.000000    9688.000000  9688.000000        9688.000000  \n",
       "mean      0.873348       0.045314     0.998865           0.722543  \n",
       "std       0.332599       0.208002     0.033679           0.447767  \n",
       "min       0.000000       0.000000     0.000000           0.000000  \n",
       "25%       1.000000       0.000000     1.000000           0.000000  \n",
       "50%       1.000000       0.000000     1.000000           1.000000  \n",
       "75%       1.000000       0.000000     1.000000           1.000000  \n",
       "max       1.000000       1.000000     1.000000           1.000000  \n",
       "\n",
       "[8 rows x 24 columns]"
      ],
      "text/html": "<div>\n<style scoped>\n    .dataframe tbody tr th:only-of-type {\n        vertical-align: middle;\n    }\n\n    .dataframe tbody tr th {\n        vertical-align: top;\n    }\n\n    .dataframe thead th {\n        text-align: right;\n    }\n</style>\n<table border=\"1\" class=\"dataframe\">\n  <thead>\n    <tr style=\"text-align: right;\">\n      <th></th>\n      <th>Unnamed: 0</th>\n      <th>sku</th>\n      <th>national_inv</th>\n      <th>lead_time</th>\n      <th>in_transit_qty</th>\n      <th>forecast_3_month</th>\n      <th>forecast_6_month</th>\n      <th>forecast_9_month</th>\n      <th>sales_1_month</th>\n      <th>sales_3_month</th>\n      <th>...</th>\n      <th>pieces_past_due</th>\n      <th>perf_6_month_avg</th>\n      <th>perf_12_month_avg</th>\n      <th>local_bo_qty</th>\n      <th>deck_risk</th>\n      <th>oe_constraint</th>\n      <th>ppap_risk</th>\n      <th>stop_auto_buy</th>\n      <th>rev_stop</th>\n      <th>went_on_backorder</th>\n    </tr>\n  </thead>\n  <tbody>\n    <tr>\n      <th>count</th>\n      <td>9688.000000</td>\n      <td>9.688000e+03</td>\n      <td>9688.000000</td>\n      <td>8473.000000</td>\n      <td>9688.000000</td>\n      <td>9.688000e+03</td>\n      <td>9.688000e+03</td>\n      <td>9.688000e+03</td>\n      <td>9688.000000</td>\n      <td>9.688000e+03</td>\n      <td>...</td>\n      <td>9688.000000</td>\n      <td>9688.000000</td>\n      <td>9688.000000</td>\n      <td>9688.000000</td>\n      <td>9688.000000</td>\n      <td>9688.000000</td>\n      <td>9688.000000</td>\n      <td>9688.000000</td>\n      <td>9688.000000</td>\n      <td>9688.000000</td>\n    </tr>\n    <tr>\n      <th>mean</th>\n      <td>4843.500000</td>\n      <td>3.404617e+06</td>\n      <td>353.050268</td>\n      <td>7.081199</td>\n      <td>52.626755</td>\n      <td>4.749449e+02</td>\n      <td>8.732313e+02</td>\n      <td>1.256470e+03</td>\n      <td>108.548617</td>\n      <td>3.651058e+02</td>\n      <td>...</td>\n      <td>37.424030</td>\n      <td>-14.037845</td>\n      <td>-13.718961</td>\n      <td>1.677230</td>\n      <td>0.805223</td>\n      <td>0.999690</td>\n      <td>0.873348</td>\n      <td>0.045314</td>\n      <td>0.998865</td>\n      <td>0.722543</td>\n    </tr>\n    <tr>\n      <th>std</th>\n      <td>2796.829038</td>\n      <td>6.930942e+04</td>\n      <td>4778.743675</td>\n      <td>5.755444</td>\n      <td>615.876767</td>\n      <td>1.108316e+04</td>\n      <td>2.247367e+04</td>\n      <td>3.362884e+04</td>\n      <td>3140.316576</td>\n      <td>1.132033e+04</td>\n      <td>...</td>\n      <td>886.372272</td>\n      <td>35.430540</td>\n      <td>35.111369</td>\n      <td>35.268733</td>\n      <td>0.396049</td>\n      <td>0.017595</td>\n      <td>0.332599</td>\n      <td>0.208002</td>\n      <td>0.033679</td>\n      <td>0.447767</td>\n    </tr>\n    <tr>\n      <th>min</th>\n      <td>0.000000</td>\n      <td>3.284951e+06</td>\n      <td>-2567.000000</td>\n      <td>0.000000</td>\n      <td>0.000000</td>\n      <td>0.000000e+00</td>\n      <td>0.000000e+00</td>\n      <td>0.000000e+00</td>\n      <td>0.000000</td>\n      <td>0.000000e+00</td>\n      <td>...</td>\n      <td>0.000000</td>\n      <td>-99.000000</td>\n      <td>-99.000000</td>\n      <td>0.000000</td>\n      <td>0.000000</td>\n      <td>0.000000</td>\n      <td>0.000000</td>\n      <td>0.000000</td>\n      <td>0.000000</td>\n      <td>0.000000</td>\n    </tr>\n    <tr>\n      <th>25%</th>\n      <td>2421.750000</td>\n      <td>3.344886e+06</td>\n      <td>2.000000</td>\n      <td>2.000000</td>\n      <td>0.000000</td>\n      <td>0.000000e+00</td>\n      <td>0.000000e+00</td>\n      <td>0.000000e+00</td>\n      <td>0.000000</td>\n      <td>0.000000e+00</td>\n      <td>...</td>\n      <td>0.000000</td>\n      <td>0.370000</td>\n      <td>0.410000</td>\n      <td>0.000000</td>\n      <td>1.000000</td>\n      <td>1.000000</td>\n      <td>1.000000</td>\n      <td>0.000000</td>\n      <td>1.000000</td>\n      <td>0.000000</td>\n    </tr>\n    <tr>\n      <th>50%</th>\n      <td>4843.500000</td>\n      <td>3.403785e+06</td>\n      <td>9.000000</td>\n      <td>8.000000</td>\n      <td>0.000000</td>\n      <td>3.000000e+00</td>\n      <td>5.000000e+00</td>\n      <td>7.000000e+00</td>\n      <td>1.000000</td>\n      <td>3.000000e+00</td>\n      <td>...</td>\n      <td>0.000000</td>\n      <td>0.730000</td>\n      <td>0.780000</td>\n      <td>0.000000</td>\n      <td>1.000000</td>\n      <td>1.000000</td>\n      <td>1.000000</td>\n      <td>0.000000</td>\n      <td>1.000000</td>\n      <td>1.000000</td>\n    </tr>\n    <tr>\n      <th>75%</th>\n      <td>7265.250000</td>\n      <td>3.464248e+06</td>\n      <td>60.000000</td>\n      <td>8.000000</td>\n      <td>0.000000</td>\n      <td>4.000000e+01</td>\n      <td>7.500000e+01</td>\n      <td>1.080000e+02</td>\n      <td>10.000000</td>\n      <td>3.400000e+01</td>\n      <td>...</td>\n      <td>0.000000</td>\n      <td>0.930000</td>\n      <td>0.910000</td>\n      <td>0.000000</td>\n      <td>1.000000</td>\n      <td>1.000000</td>\n      <td>1.000000</td>\n      <td>0.000000</td>\n      <td>1.000000</td>\n      <td>1.000000</td>\n    </tr>\n    <tr>\n      <th>max</th>\n      <td>9687.000000</td>\n      <td>3.526994e+06</td>\n      <td>389335.000000</td>\n      <td>52.000000</td>\n      <td>36334.000000</td>\n      <td>1.021940e+06</td>\n      <td>2.094452e+06</td>\n      <td>3.162260e+06</td>\n      <td>299190.000000</td>\n      <td>1.086554e+06</td>\n      <td>...</td>\n      <td>79964.000000</td>\n      <td>1.000000</td>\n      <td>1.000000</td>\n      <td>2837.000000</td>\n      <td>1.000000</td>\n      <td>1.000000</td>\n      <td>1.000000</td>\n      <td>1.000000</td>\n      <td>1.000000</td>\n      <td>1.000000</td>\n    </tr>\n  </tbody>\n</table>\n<p>8 rows × 24 columns</p>\n</div>"
     },
     "metadata": {},
     "execution_count": 13
    }
   ],
   "source": [
    "data.describe(include=\"all\")"
   ]
  },
  {
   "cell_type": "code",
   "execution_count": 14,
   "metadata": {},
   "outputs": [
    {
     "output_type": "execute_result",
     "data": {
      "text/plain": [
       "Unnamed: 0              0\n",
       "sku                     0\n",
       "national_inv            0\n",
       "lead_time            1215\n",
       "in_transit_qty          0\n",
       "forecast_3_month        0\n",
       "forecast_6_month        0\n",
       "forecast_9_month        0\n",
       "sales_1_month           0\n",
       "sales_3_month           0\n",
       "sales_6_month           0\n",
       "sales_9_month           0\n",
       "min_bank                0\n",
       "potential_issue         0\n",
       "pieces_past_due         0\n",
       "perf_6_month_avg        0\n",
       "perf_12_month_avg       0\n",
       "local_bo_qty            0\n",
       "deck_risk               0\n",
       "oe_constraint           0\n",
       "ppap_risk               0\n",
       "stop_auto_buy           0\n",
       "rev_stop                0\n",
       "went_on_backorder       0\n",
       "dtype: int64"
      ]
     },
     "metadata": {},
     "execution_count": 14
    }
   ],
   "source": [
    "data.isna().sum()"
   ]
  },
  {
   "cell_type": "code",
   "execution_count": 15,
   "metadata": {},
   "outputs": [],
   "source": [
    "data = data.dropna()"
   ]
  },
  {
   "cell_type": "code",
   "execution_count": 16,
   "metadata": {},
   "outputs": [
    {
     "output_type": "execute_result",
     "data": {
      "text/plain": [
       "      Unnamed: 0      sku  national_inv  lead_time  in_transit_qty  \\\n",
       "2              2  3286560           0.0        2.0             0.0   \n",
       "3              3  3299078           7.0        8.0             0.0   \n",
       "4              4  3314098           0.0        8.0             0.0   \n",
       "5              5  3316047           0.0        4.0             0.0   \n",
       "6              6  3317147           0.0        8.0             0.0   \n",
       "...          ...      ...           ...        ...             ...   \n",
       "9683        9683  3450927           0.0        2.0             0.0   \n",
       "9684        9684  3318198          45.0       12.0            20.0   \n",
       "9685        9685  3446698         130.0        8.0            45.0   \n",
       "9686        9686  3443031          -7.0        8.0             0.0   \n",
       "9687        9687  3485013           0.0        2.0             0.0   \n",
       "\n",
       "      forecast_3_month  forecast_6_month  forecast_9_month  sales_1_month  \\\n",
       "2                  4.0               7.0               7.0            0.0   \n",
       "3                 11.0              27.0              47.0            2.0   \n",
       "4                  9.0              14.0              16.0            0.0   \n",
       "5                 10.0              10.0              10.0            0.0   \n",
       "6                  2.0               3.0               4.0            0.0   \n",
       "...                ...               ...               ...            ...   \n",
       "9683              55.0              55.0              55.0            0.0   \n",
       "9684              53.0              93.0             134.0           14.0   \n",
       "9685              70.0             160.0             240.0           53.0   \n",
       "9686              45.0              68.0              95.0           13.0   \n",
       "9687              40.0              61.0              65.0            0.0   \n",
       "\n",
       "      sales_3_month  ...  pieces_past_due  perf_6_month_avg  \\\n",
       "2               0.0  ...              0.0              0.70   \n",
       "3               2.0  ...              0.0              0.70   \n",
       "4               0.0  ...              0.0              0.95   \n",
       "5               0.0  ...              0.0              0.57   \n",
       "6               1.0  ...              0.0              0.56   \n",
       "...             ...  ...              ...               ...   \n",
       "9683            0.0  ...             15.0              0.00   \n",
       "9684           60.0  ...             14.0              0.70   \n",
       "9685          122.0  ...             10.0              0.84   \n",
       "9686           35.0  ...              3.0              0.50   \n",
       "9687            0.0  ...             40.0              0.86   \n",
       "\n",
       "      perf_12_month_avg  local_bo_qty  deck_risk  oe_constraint  ppap_risk  \\\n",
       "2                  0.73           0.0          1              1          1   \n",
       "3                  0.73           0.0          1              1          1   \n",
       "4                  0.94           0.0          1              1          1   \n",
       "5                  0.68           0.0          0              1          1   \n",
       "6                  0.68           0.0          1              1          1   \n",
       "...                 ...           ...        ...            ...        ...   \n",
       "9683               0.00           0.0          0              1          0   \n",
       "9684               0.76           0.0          1              1          1   \n",
       "9685               0.86           1.0          1              1          1   \n",
       "9686               0.46           7.0          1              1          1   \n",
       "9687               0.91          10.0          0              1          0   \n",
       "\n",
       "      stop_auto_buy  rev_stop  went_on_backorder  \n",
       "2                 0         1                  0  \n",
       "3                 0         1                  0  \n",
       "4                 0         1                  0  \n",
       "5                 0         1                  0  \n",
       "6                 0         1                  0  \n",
       "...             ...       ...                ...  \n",
       "9683              0         1                  1  \n",
       "9684              0         1                  1  \n",
       "9685              0         1                  1  \n",
       "9686              0         1                  1  \n",
       "9687              0         1                  1  \n",
       "\n",
       "[8473 rows x 24 columns]"
      ],
      "text/html": "<div>\n<style scoped>\n    .dataframe tbody tr th:only-of-type {\n        vertical-align: middle;\n    }\n\n    .dataframe tbody tr th {\n        vertical-align: top;\n    }\n\n    .dataframe thead th {\n        text-align: right;\n    }\n</style>\n<table border=\"1\" class=\"dataframe\">\n  <thead>\n    <tr style=\"text-align: right;\">\n      <th></th>\n      <th>Unnamed: 0</th>\n      <th>sku</th>\n      <th>national_inv</th>\n      <th>lead_time</th>\n      <th>in_transit_qty</th>\n      <th>forecast_3_month</th>\n      <th>forecast_6_month</th>\n      <th>forecast_9_month</th>\n      <th>sales_1_month</th>\n      <th>sales_3_month</th>\n      <th>...</th>\n      <th>pieces_past_due</th>\n      <th>perf_6_month_avg</th>\n      <th>perf_12_month_avg</th>\n      <th>local_bo_qty</th>\n      <th>deck_risk</th>\n      <th>oe_constraint</th>\n      <th>ppap_risk</th>\n      <th>stop_auto_buy</th>\n      <th>rev_stop</th>\n      <th>went_on_backorder</th>\n    </tr>\n  </thead>\n  <tbody>\n    <tr>\n      <th>2</th>\n      <td>2</td>\n      <td>3286560</td>\n      <td>0.0</td>\n      <td>2.0</td>\n      <td>0.0</td>\n      <td>4.0</td>\n      <td>7.0</td>\n      <td>7.0</td>\n      <td>0.0</td>\n      <td>0.0</td>\n      <td>...</td>\n      <td>0.0</td>\n      <td>0.70</td>\n      <td>0.73</td>\n      <td>0.0</td>\n      <td>1</td>\n      <td>1</td>\n      <td>1</td>\n      <td>0</td>\n      <td>1</td>\n      <td>0</td>\n    </tr>\n    <tr>\n      <th>3</th>\n      <td>3</td>\n      <td>3299078</td>\n      <td>7.0</td>\n      <td>8.0</td>\n      <td>0.0</td>\n      <td>11.0</td>\n      <td>27.0</td>\n      <td>47.0</td>\n      <td>2.0</td>\n      <td>2.0</td>\n      <td>...</td>\n      <td>0.0</td>\n      <td>0.70</td>\n      <td>0.73</td>\n      <td>0.0</td>\n      <td>1</td>\n      <td>1</td>\n      <td>1</td>\n      <td>0</td>\n      <td>1</td>\n      <td>0</td>\n    </tr>\n    <tr>\n      <th>4</th>\n      <td>4</td>\n      <td>3314098</td>\n      <td>0.0</td>\n      <td>8.0</td>\n      <td>0.0</td>\n      <td>9.0</td>\n      <td>14.0</td>\n      <td>16.0</td>\n      <td>0.0</td>\n      <td>0.0</td>\n      <td>...</td>\n      <td>0.0</td>\n      <td>0.95</td>\n      <td>0.94</td>\n      <td>0.0</td>\n      <td>1</td>\n      <td>1</td>\n      <td>1</td>\n      <td>0</td>\n      <td>1</td>\n      <td>0</td>\n    </tr>\n    <tr>\n      <th>5</th>\n      <td>5</td>\n      <td>3316047</td>\n      <td>0.0</td>\n      <td>4.0</td>\n      <td>0.0</td>\n      <td>10.0</td>\n      <td>10.0</td>\n      <td>10.0</td>\n      <td>0.0</td>\n      <td>0.0</td>\n      <td>...</td>\n      <td>0.0</td>\n      <td>0.57</td>\n      <td>0.68</td>\n      <td>0.0</td>\n      <td>0</td>\n      <td>1</td>\n      <td>1</td>\n      <td>0</td>\n      <td>1</td>\n      <td>0</td>\n    </tr>\n    <tr>\n      <th>6</th>\n      <td>6</td>\n      <td>3317147</td>\n      <td>0.0</td>\n      <td>8.0</td>\n      <td>0.0</td>\n      <td>2.0</td>\n      <td>3.0</td>\n      <td>4.0</td>\n      <td>0.0</td>\n      <td>1.0</td>\n      <td>...</td>\n      <td>0.0</td>\n      <td>0.56</td>\n      <td>0.68</td>\n      <td>0.0</td>\n      <td>1</td>\n      <td>1</td>\n      <td>1</td>\n      <td>0</td>\n      <td>1</td>\n      <td>0</td>\n    </tr>\n    <tr>\n      <th>...</th>\n      <td>...</td>\n      <td>...</td>\n      <td>...</td>\n      <td>...</td>\n      <td>...</td>\n      <td>...</td>\n      <td>...</td>\n      <td>...</td>\n      <td>...</td>\n      <td>...</td>\n      <td>...</td>\n      <td>...</td>\n      <td>...</td>\n      <td>...</td>\n      <td>...</td>\n      <td>...</td>\n      <td>...</td>\n      <td>...</td>\n      <td>...</td>\n      <td>...</td>\n      <td>...</td>\n    </tr>\n    <tr>\n      <th>9683</th>\n      <td>9683</td>\n      <td>3450927</td>\n      <td>0.0</td>\n      <td>2.0</td>\n      <td>0.0</td>\n      <td>55.0</td>\n      <td>55.0</td>\n      <td>55.0</td>\n      <td>0.0</td>\n      <td>0.0</td>\n      <td>...</td>\n      <td>15.0</td>\n      <td>0.00</td>\n      <td>0.00</td>\n      <td>0.0</td>\n      <td>0</td>\n      <td>1</td>\n      <td>0</td>\n      <td>0</td>\n      <td>1</td>\n      <td>1</td>\n    </tr>\n    <tr>\n      <th>9684</th>\n      <td>9684</td>\n      <td>3318198</td>\n      <td>45.0</td>\n      <td>12.0</td>\n      <td>20.0</td>\n      <td>53.0</td>\n      <td>93.0</td>\n      <td>134.0</td>\n      <td>14.0</td>\n      <td>60.0</td>\n      <td>...</td>\n      <td>14.0</td>\n      <td>0.70</td>\n      <td>0.76</td>\n      <td>0.0</td>\n      <td>1</td>\n      <td>1</td>\n      <td>1</td>\n      <td>0</td>\n      <td>1</td>\n      <td>1</td>\n    </tr>\n    <tr>\n      <th>9685</th>\n      <td>9685</td>\n      <td>3446698</td>\n      <td>130.0</td>\n      <td>8.0</td>\n      <td>45.0</td>\n      <td>70.0</td>\n      <td>160.0</td>\n      <td>240.0</td>\n      <td>53.0</td>\n      <td>122.0</td>\n      <td>...</td>\n      <td>10.0</td>\n      <td>0.84</td>\n      <td>0.86</td>\n      <td>1.0</td>\n      <td>1</td>\n      <td>1</td>\n      <td>1</td>\n      <td>0</td>\n      <td>1</td>\n      <td>1</td>\n    </tr>\n    <tr>\n      <th>9686</th>\n      <td>9686</td>\n      <td>3443031</td>\n      <td>-7.0</td>\n      <td>8.0</td>\n      <td>0.0</td>\n      <td>45.0</td>\n      <td>68.0</td>\n      <td>95.0</td>\n      <td>13.0</td>\n      <td>35.0</td>\n      <td>...</td>\n      <td>3.0</td>\n      <td>0.50</td>\n      <td>0.46</td>\n      <td>7.0</td>\n      <td>1</td>\n      <td>1</td>\n      <td>1</td>\n      <td>0</td>\n      <td>1</td>\n      <td>1</td>\n    </tr>\n    <tr>\n      <th>9687</th>\n      <td>9687</td>\n      <td>3485013</td>\n      <td>0.0</td>\n      <td>2.0</td>\n      <td>0.0</td>\n      <td>40.0</td>\n      <td>61.0</td>\n      <td>65.0</td>\n      <td>0.0</td>\n      <td>0.0</td>\n      <td>...</td>\n      <td>40.0</td>\n      <td>0.86</td>\n      <td>0.91</td>\n      <td>10.0</td>\n      <td>0</td>\n      <td>1</td>\n      <td>0</td>\n      <td>0</td>\n      <td>1</td>\n      <td>1</td>\n    </tr>\n  </tbody>\n</table>\n<p>8473 rows × 24 columns</p>\n</div>"
     },
     "metadata": {},
     "execution_count": 16
    }
   ],
   "source": [
    "data"
   ]
  },
  {
   "cell_type": "code",
   "execution_count": 17,
   "metadata": {},
   "outputs": [
    {
     "output_type": "execute_result",
     "data": {
      "text/plain": [
       "Unnamed: 0           0\n",
       "sku                  0\n",
       "national_inv         0\n",
       "lead_time            0\n",
       "in_transit_qty       0\n",
       "forecast_3_month     0\n",
       "forecast_6_month     0\n",
       "forecast_9_month     0\n",
       "sales_1_month        0\n",
       "sales_3_month        0\n",
       "sales_6_month        0\n",
       "sales_9_month        0\n",
       "min_bank             0\n",
       "potential_issue      0\n",
       "pieces_past_due      0\n",
       "perf_6_month_avg     0\n",
       "perf_12_month_avg    0\n",
       "local_bo_qty         0\n",
       "deck_risk            0\n",
       "oe_constraint        0\n",
       "ppap_risk            0\n",
       "stop_auto_buy        0\n",
       "rev_stop             0\n",
       "went_on_backorder    0\n",
       "dtype: int64"
      ]
     },
     "metadata": {},
     "execution_count": 17
    }
   ],
   "source": [
    "data.isna().sum()"
   ]
  },
  {
   "cell_type": "code",
   "execution_count": 18,
   "metadata": {},
   "outputs": [],
   "source": [
    "X = data.drop([\"went_on_backorder\",\"Unnamed: 0\",\"sku\"],axis=1)"
   ]
  },
  {
   "cell_type": "code",
   "execution_count": 19,
   "metadata": {},
   "outputs": [],
   "source": [
    "y =data[\"went_on_backorder\"]"
   ]
  },
  {
   "cell_type": "code",
   "execution_count": 20,
   "metadata": {},
   "outputs": [],
   "source": [
    "from sklearn.preprocessing import StandardScaler"
   ]
  },
  {
   "cell_type": "code",
   "execution_count": 21,
   "metadata": {},
   "outputs": [],
   "source": [
    "scalar = StandardScaler()"
   ]
  },
  {
   "cell_type": "code",
   "execution_count": 22,
   "metadata": {},
   "outputs": [
    {
     "output_type": "execute_result",
     "data": {
      "text/plain": [
       "      national_inv  lead_time  in_transit_qty  forecast_3_month  \\\n",
       "0        -0.072887  -0.882903       -0.091009         -0.045406   \n",
       "1        -0.071505   0.159650       -0.091009         -0.044815   \n",
       "2        -0.072887   0.159650       -0.091009         -0.044984   \n",
       "3        -0.072887  -0.535385       -0.091009         -0.044900   \n",
       "4        -0.072887   0.159650       -0.091009         -0.045575   \n",
       "...            ...        ...             ...               ...   \n",
       "8468     -0.072887  -0.882903       -0.091009         -0.041102   \n",
       "8469     -0.063998   0.854685       -0.060618         -0.041271   \n",
       "8470     -0.047206   0.159650       -0.022629         -0.039836   \n",
       "8471     -0.074270   0.159650       -0.091009         -0.041946   \n",
       "8472     -0.072887  -0.882903       -0.091009         -0.042368   \n",
       "\n",
       "      forecast_6_month  forecast_9_month  sales_1_month  sales_3_month  \\\n",
       "0            -0.041172         -0.039675      -0.036789      -0.034331   \n",
       "1            -0.040339         -0.038562      -0.036193      -0.034166   \n",
       "2            -0.040880         -0.039425      -0.036789      -0.034331   \n",
       "3            -0.041047         -0.039592      -0.036789      -0.034331   \n",
       "4            -0.041338         -0.039758      -0.036789      -0.034249   \n",
       "...                ...               ...            ...            ...   \n",
       "8468         -0.039174         -0.038340      -0.036789      -0.034331   \n",
       "8469         -0.037592         -0.036143      -0.032619      -0.029374   \n",
       "8470         -0.034804         -0.033194      -0.021003      -0.024251   \n",
       "8471         -0.038633         -0.037227      -0.032917      -0.031440   \n",
       "8472         -0.038924         -0.038062      -0.036789      -0.034331   \n",
       "\n",
       "      sales_6_month  sales_9_month  ...  potential_issue  pieces_past_due  \\\n",
       "0         -0.034725      -0.034221  ...           0.0392        -0.045124   \n",
       "1         -0.034641      -0.034165  ...           0.0392        -0.045124   \n",
       "2         -0.034725      -0.034221  ...           0.0392        -0.045124   \n",
       "3         -0.034725      -0.034221  ...           0.0392        -0.045124   \n",
       "4         -0.034641      -0.034165  ...           0.0392        -0.045124   \n",
       "...             ...            ...  ...              ...              ...   \n",
       "8468      -0.034725      -0.034221  ...           0.0392        -0.029295   \n",
       "8469      -0.029675      -0.029351  ...           0.0392        -0.030351   \n",
       "8470      -0.025898      -0.025456  ...           0.0392        -0.034572   \n",
       "8471      -0.031585      -0.031605  ...           0.0392        -0.041958   \n",
       "8472      -0.034725      -0.034221  ...           0.0392        -0.002913   \n",
       "\n",
       "      perf_6_month_avg  perf_12_month_avg  local_bo_qty  deck_risk  \\\n",
       "0             0.161039           0.150703     -0.050609   0.432082   \n",
       "1             0.161039           0.150703     -0.050609   0.432082   \n",
       "2             0.176799           0.164959     -0.050609   0.432082   \n",
       "3             0.152844           0.147308     -0.050609  -2.314377   \n",
       "4             0.152214           0.147308     -0.050609   0.432082   \n",
       "...                ...                ...           ...        ...   \n",
       "8468          0.116911           0.101146     -0.050609  -2.314377   \n",
       "8469          0.161039           0.152739     -0.050609   0.432082   \n",
       "8470          0.169865           0.159528     -0.024085   0.432082   \n",
       "8471          0.148431           0.132373      0.135056   0.432082   \n",
       "8472          0.171125           0.162922      0.214627  -2.314377   \n",
       "\n",
       "      oe_constraint  ppap_risk  stop_auto_buy  rev_stop  \n",
       "0           0.01882   0.375897      -0.164409  0.028755  \n",
       "1           0.01882   0.375897      -0.164409  0.028755  \n",
       "2           0.01882   0.375897      -0.164409  0.028755  \n",
       "3           0.01882   0.375897      -0.164409  0.028755  \n",
       "4           0.01882   0.375897      -0.164409  0.028755  \n",
       "...             ...        ...            ...       ...  \n",
       "8468        0.01882  -2.660304      -0.164409  0.028755  \n",
       "8469        0.01882   0.375897      -0.164409  0.028755  \n",
       "8470        0.01882   0.375897      -0.164409  0.028755  \n",
       "8471        0.01882   0.375897      -0.164409  0.028755  \n",
       "8472        0.01882  -2.660304      -0.164409  0.028755  \n",
       "\n",
       "[8473 rows x 21 columns]"
      ],
      "text/html": "<div>\n<style scoped>\n    .dataframe tbody tr th:only-of-type {\n        vertical-align: middle;\n    }\n\n    .dataframe tbody tr th {\n        vertical-align: top;\n    }\n\n    .dataframe thead th {\n        text-align: right;\n    }\n</style>\n<table border=\"1\" class=\"dataframe\">\n  <thead>\n    <tr style=\"text-align: right;\">\n      <th></th>\n      <th>national_inv</th>\n      <th>lead_time</th>\n      <th>in_transit_qty</th>\n      <th>forecast_3_month</th>\n      <th>forecast_6_month</th>\n      <th>forecast_9_month</th>\n      <th>sales_1_month</th>\n      <th>sales_3_month</th>\n      <th>sales_6_month</th>\n      <th>sales_9_month</th>\n      <th>...</th>\n      <th>potential_issue</th>\n      <th>pieces_past_due</th>\n      <th>perf_6_month_avg</th>\n      <th>perf_12_month_avg</th>\n      <th>local_bo_qty</th>\n      <th>deck_risk</th>\n      <th>oe_constraint</th>\n      <th>ppap_risk</th>\n      <th>stop_auto_buy</th>\n      <th>rev_stop</th>\n    </tr>\n  </thead>\n  <tbody>\n    <tr>\n      <th>0</th>\n      <td>-0.072887</td>\n      <td>-0.882903</td>\n      <td>-0.091009</td>\n      <td>-0.045406</td>\n      <td>-0.041172</td>\n      <td>-0.039675</td>\n      <td>-0.036789</td>\n      <td>-0.034331</td>\n      <td>-0.034725</td>\n      <td>-0.034221</td>\n      <td>...</td>\n      <td>0.0392</td>\n      <td>-0.045124</td>\n      <td>0.161039</td>\n      <td>0.150703</td>\n      <td>-0.050609</td>\n      <td>0.432082</td>\n      <td>0.01882</td>\n      <td>0.375897</td>\n      <td>-0.164409</td>\n      <td>0.028755</td>\n    </tr>\n    <tr>\n      <th>1</th>\n      <td>-0.071505</td>\n      <td>0.159650</td>\n      <td>-0.091009</td>\n      <td>-0.044815</td>\n      <td>-0.040339</td>\n      <td>-0.038562</td>\n      <td>-0.036193</td>\n      <td>-0.034166</td>\n      <td>-0.034641</td>\n      <td>-0.034165</td>\n      <td>...</td>\n      <td>0.0392</td>\n      <td>-0.045124</td>\n      <td>0.161039</td>\n      <td>0.150703</td>\n      <td>-0.050609</td>\n      <td>0.432082</td>\n      <td>0.01882</td>\n      <td>0.375897</td>\n      <td>-0.164409</td>\n      <td>0.028755</td>\n    </tr>\n    <tr>\n      <th>2</th>\n      <td>-0.072887</td>\n      <td>0.159650</td>\n      <td>-0.091009</td>\n      <td>-0.044984</td>\n      <td>-0.040880</td>\n      <td>-0.039425</td>\n      <td>-0.036789</td>\n      <td>-0.034331</td>\n      <td>-0.034725</td>\n      <td>-0.034221</td>\n      <td>...</td>\n      <td>0.0392</td>\n      <td>-0.045124</td>\n      <td>0.176799</td>\n      <td>0.164959</td>\n      <td>-0.050609</td>\n      <td>0.432082</td>\n      <td>0.01882</td>\n      <td>0.375897</td>\n      <td>-0.164409</td>\n      <td>0.028755</td>\n    </tr>\n    <tr>\n      <th>3</th>\n      <td>-0.072887</td>\n      <td>-0.535385</td>\n      <td>-0.091009</td>\n      <td>-0.044900</td>\n      <td>-0.041047</td>\n      <td>-0.039592</td>\n      <td>-0.036789</td>\n      <td>-0.034331</td>\n      <td>-0.034725</td>\n      <td>-0.034221</td>\n      <td>...</td>\n      <td>0.0392</td>\n      <td>-0.045124</td>\n      <td>0.152844</td>\n      <td>0.147308</td>\n      <td>-0.050609</td>\n      <td>-2.314377</td>\n      <td>0.01882</td>\n      <td>0.375897</td>\n      <td>-0.164409</td>\n      <td>0.028755</td>\n    </tr>\n    <tr>\n      <th>4</th>\n      <td>-0.072887</td>\n      <td>0.159650</td>\n      <td>-0.091009</td>\n      <td>-0.045575</td>\n      <td>-0.041338</td>\n      <td>-0.039758</td>\n      <td>-0.036789</td>\n      <td>-0.034249</td>\n      <td>-0.034641</td>\n      <td>-0.034165</td>\n      <td>...</td>\n      <td>0.0392</td>\n      <td>-0.045124</td>\n      <td>0.152214</td>\n      <td>0.147308</td>\n      <td>-0.050609</td>\n      <td>0.432082</td>\n      <td>0.01882</td>\n      <td>0.375897</td>\n      <td>-0.164409</td>\n      <td>0.028755</td>\n    </tr>\n    <tr>\n      <th>...</th>\n      <td>...</td>\n      <td>...</td>\n      <td>...</td>\n      <td>...</td>\n      <td>...</td>\n      <td>...</td>\n      <td>...</td>\n      <td>...</td>\n      <td>...</td>\n      <td>...</td>\n      <td>...</td>\n      <td>...</td>\n      <td>...</td>\n      <td>...</td>\n      <td>...</td>\n      <td>...</td>\n      <td>...</td>\n      <td>...</td>\n      <td>...</td>\n      <td>...</td>\n      <td>...</td>\n    </tr>\n    <tr>\n      <th>8468</th>\n      <td>-0.072887</td>\n      <td>-0.882903</td>\n      <td>-0.091009</td>\n      <td>-0.041102</td>\n      <td>-0.039174</td>\n      <td>-0.038340</td>\n      <td>-0.036789</td>\n      <td>-0.034331</td>\n      <td>-0.034725</td>\n      <td>-0.034221</td>\n      <td>...</td>\n      <td>0.0392</td>\n      <td>-0.029295</td>\n      <td>0.116911</td>\n      <td>0.101146</td>\n      <td>-0.050609</td>\n      <td>-2.314377</td>\n      <td>0.01882</td>\n      <td>-2.660304</td>\n      <td>-0.164409</td>\n      <td>0.028755</td>\n    </tr>\n    <tr>\n      <th>8469</th>\n      <td>-0.063998</td>\n      <td>0.854685</td>\n      <td>-0.060618</td>\n      <td>-0.041271</td>\n      <td>-0.037592</td>\n      <td>-0.036143</td>\n      <td>-0.032619</td>\n      <td>-0.029374</td>\n      <td>-0.029675</td>\n      <td>-0.029351</td>\n      <td>...</td>\n      <td>0.0392</td>\n      <td>-0.030351</td>\n      <td>0.161039</td>\n      <td>0.152739</td>\n      <td>-0.050609</td>\n      <td>0.432082</td>\n      <td>0.01882</td>\n      <td>0.375897</td>\n      <td>-0.164409</td>\n      <td>0.028755</td>\n    </tr>\n    <tr>\n      <th>8470</th>\n      <td>-0.047206</td>\n      <td>0.159650</td>\n      <td>-0.022629</td>\n      <td>-0.039836</td>\n      <td>-0.034804</td>\n      <td>-0.033194</td>\n      <td>-0.021003</td>\n      <td>-0.024251</td>\n      <td>-0.025898</td>\n      <td>-0.025456</td>\n      <td>...</td>\n      <td>0.0392</td>\n      <td>-0.034572</td>\n      <td>0.169865</td>\n      <td>0.159528</td>\n      <td>-0.024085</td>\n      <td>0.432082</td>\n      <td>0.01882</td>\n      <td>0.375897</td>\n      <td>-0.164409</td>\n      <td>0.028755</td>\n    </tr>\n    <tr>\n      <th>8471</th>\n      <td>-0.074270</td>\n      <td>0.159650</td>\n      <td>-0.091009</td>\n      <td>-0.041946</td>\n      <td>-0.038633</td>\n      <td>-0.037227</td>\n      <td>-0.032917</td>\n      <td>-0.031440</td>\n      <td>-0.031585</td>\n      <td>-0.031605</td>\n      <td>...</td>\n      <td>0.0392</td>\n      <td>-0.041958</td>\n      <td>0.148431</td>\n      <td>0.132373</td>\n      <td>0.135056</td>\n      <td>0.432082</td>\n      <td>0.01882</td>\n      <td>0.375897</td>\n      <td>-0.164409</td>\n      <td>0.028755</td>\n    </tr>\n    <tr>\n      <th>8472</th>\n      <td>-0.072887</td>\n      <td>-0.882903</td>\n      <td>-0.091009</td>\n      <td>-0.042368</td>\n      <td>-0.038924</td>\n      <td>-0.038062</td>\n      <td>-0.036789</td>\n      <td>-0.034331</td>\n      <td>-0.034725</td>\n      <td>-0.034221</td>\n      <td>...</td>\n      <td>0.0392</td>\n      <td>-0.002913</td>\n      <td>0.171125</td>\n      <td>0.162922</td>\n      <td>0.214627</td>\n      <td>-2.314377</td>\n      <td>0.01882</td>\n      <td>-2.660304</td>\n      <td>-0.164409</td>\n      <td>0.028755</td>\n    </tr>\n  </tbody>\n</table>\n<p>8473 rows × 21 columns</p>\n</div>"
     },
     "metadata": {},
     "execution_count": 22
    }
   ],
   "source": [
    "X_scaled = pd.DataFrame(scalar.fit_transform(X),columns=X.columns)\n",
    "\n",
    "X_scaled"
   ]
  },
  {
   "cell_type": "code",
   "execution_count": 23,
   "metadata": {},
   "outputs": [
    {
     "output_type": "error",
     "ename": "NameError",
     "evalue": "name 'sns' is not defined",
     "traceback": [
      "\u001b[1;31m---------------------------------------------------------------------------\u001b[0m",
      "\u001b[1;31mNameError\u001b[0m                                 Traceback (most recent call last)",
      "\u001b[1;32m<ipython-input-23-67f15af4bc7d>\u001b[0m in \u001b[0;36m<module>\u001b[1;34m\u001b[0m\n\u001b[0;32m      2\u001b[0m \u001b[0mplt_data\u001b[0m \u001b[1;33m=\u001b[0m\u001b[0mX_scaled\u001b[0m\u001b[1;33m\u001b[0m\u001b[1;33m\u001b[0m\u001b[0m\n\u001b[0;32m      3\u001b[0m     \u001b[1;31m#ax = plot.subplot(5,3,plotnumber)\u001b[0m\u001b[1;33m\u001b[0m\u001b[1;33m\u001b[0m\u001b[1;33m\u001b[0m\u001b[0m\n\u001b[1;32m----> 4\u001b[1;33m \u001b[0msns\u001b[0m\u001b[1;33m.\u001b[0m\u001b[0mheatmap\u001b[0m\u001b[1;33m(\u001b[0m\u001b[0mplt_data\u001b[0m\u001b[1;33m.\u001b[0m\u001b[0mcorr\u001b[0m\u001b[1;33m(\u001b[0m\u001b[1;33m)\u001b[0m\u001b[1;33m.\u001b[0m\u001b[0mabs\u001b[0m\u001b[1;33m(\u001b[0m\u001b[1;33m)\u001b[0m\u001b[1;33m,\u001b[0m \u001b[0mvmin\u001b[0m \u001b[1;33m=\u001b[0m \u001b[1;33m-\u001b[0m\u001b[1;36m0.5\u001b[0m\u001b[1;33m,\u001b[0m\u001b[0mvmax\u001b[0m \u001b[1;33m=\u001b[0m \u001b[1;36m1\u001b[0m\u001b[1;33m,\u001b[0m\u001b[0mannot\u001b[0m\u001b[1;33m=\u001b[0m\u001b[1;32mTrue\u001b[0m\u001b[1;33m)\u001b[0m\u001b[1;33m\u001b[0m\u001b[1;33m\u001b[0m\u001b[0m\n\u001b[0m",
      "\u001b[1;31mNameError\u001b[0m: name 'sns' is not defined"
     ]
    }
   ],
   "source": [
    "plot.figure(figsize=(20,20))\n",
    "plt_data =X_scaled\n",
    "    #ax = plot.subplot(5,3,plotnumber)\n",
    "sns.heatmap(plt_data.corr().abs(), vmin = -0.5,vmax = 1,annot=True)"
   ]
  },
  {
   "cell_type": "code",
   "execution_count": 130,
   "metadata": {},
   "outputs": [],
   "source": [
    "from statsmodels.stats.outliers_influence import variance_inflation_factor\n",
    "variables = X_scaled.values\n",
    "\n",
    "# we create a new data frame which will include all the VIFs\n",
    "# note that each variable has its own variance inflation factor as this measure is variable specific (not model specific)\n",
    "# we do not include categorical values for mulitcollinearity as they do not provide much information as numerical ones do\n",
    "vif = pd.DataFrame()\n",
    "\n",
    "# here we make use of the variance_inflation_factor, which will basically output the respective VIFs \n",
    "vif[\"VIF\"] = [variance_inflation_factor(variables, i) for i in range(variables.shape[1])]\n",
    "# Finally, I like to include names so it is easier to explore the result\n",
    "vif[\"Features\"] = X.columns"
   ]
  },
  {
   "cell_type": "code",
   "execution_count": 131,
   "metadata": {},
   "outputs": [
    {
     "data": {
      "text/html": [
       "<div>\n",
       "<style scoped>\n",
       "    .dataframe tbody tr th:only-of-type {\n",
       "        vertical-align: middle;\n",
       "    }\n",
       "\n",
       "    .dataframe tbody tr th {\n",
       "        vertical-align: top;\n",
       "    }\n",
       "\n",
       "    .dataframe thead th {\n",
       "        text-align: right;\n",
       "    }\n",
       "</style>\n",
       "<table border=\"1\" class=\"dataframe\">\n",
       "  <thead>\n",
       "    <tr style=\"text-align: right;\">\n",
       "      <th></th>\n",
       "      <th>VIF</th>\n",
       "      <th>Features</th>\n",
       "    </tr>\n",
       "  </thead>\n",
       "  <tbody>\n",
       "    <tr>\n",
       "      <th>0</th>\n",
       "      <td>5.940944</td>\n",
       "      <td>national_inv</td>\n",
       "    </tr>\n",
       "    <tr>\n",
       "      <th>1</th>\n",
       "      <td>1.066662</td>\n",
       "      <td>lead_time</td>\n",
       "    </tr>\n",
       "    <tr>\n",
       "      <th>2</th>\n",
       "      <td>1.792865</td>\n",
       "      <td>in_transit_qty</td>\n",
       "    </tr>\n",
       "    <tr>\n",
       "      <th>3</th>\n",
       "      <td>703.150833</td>\n",
       "      <td>forecast_3_month</td>\n",
       "    </tr>\n",
       "    <tr>\n",
       "      <th>4</th>\n",
       "      <td>7104.115768</td>\n",
       "      <td>forecast_6_month</td>\n",
       "    </tr>\n",
       "    <tr>\n",
       "      <th>5</th>\n",
       "      <td>5858.998007</td>\n",
       "      <td>forecast_9_month</td>\n",
       "    </tr>\n",
       "    <tr>\n",
       "      <th>6</th>\n",
       "      <td>364.018624</td>\n",
       "      <td>sales_1_month</td>\n",
       "    </tr>\n",
       "    <tr>\n",
       "      <th>7</th>\n",
       "      <td>2091.142745</td>\n",
       "      <td>sales_3_month</td>\n",
       "    </tr>\n",
       "    <tr>\n",
       "      <th>8</th>\n",
       "      <td>7578.390952</td>\n",
       "      <td>sales_6_month</td>\n",
       "    </tr>\n",
       "    <tr>\n",
       "      <th>9</th>\n",
       "      <td>4337.186397</td>\n",
       "      <td>sales_9_month</td>\n",
       "    </tr>\n",
       "    <tr>\n",
       "      <th>10</th>\n",
       "      <td>58.612060</td>\n",
       "      <td>min_bank</td>\n",
       "    </tr>\n",
       "    <tr>\n",
       "      <th>11</th>\n",
       "      <td>1.002710</td>\n",
       "      <td>potential_issue</td>\n",
       "    </tr>\n",
       "    <tr>\n",
       "      <th>12</th>\n",
       "      <td>12.917964</td>\n",
       "      <td>pieces_past_due</td>\n",
       "    </tr>\n",
       "    <tr>\n",
       "      <th>13</th>\n",
       "      <td>7.029094</td>\n",
       "      <td>perf_6_month_avg</td>\n",
       "    </tr>\n",
       "    <tr>\n",
       "      <th>14</th>\n",
       "      <td>7.031116</td>\n",
       "      <td>perf_12_month_avg</td>\n",
       "    </tr>\n",
       "    <tr>\n",
       "      <th>15</th>\n",
       "      <td>1.224376</td>\n",
       "      <td>local_bo_qty</td>\n",
       "    </tr>\n",
       "    <tr>\n",
       "      <th>16</th>\n",
       "      <td>1.039206</td>\n",
       "      <td>deck_risk</td>\n",
       "    </tr>\n",
       "    <tr>\n",
       "      <th>17</th>\n",
       "      <td>1.002156</td>\n",
       "      <td>oe_constraint</td>\n",
       "    </tr>\n",
       "    <tr>\n",
       "      <th>18</th>\n",
       "      <td>1.015100</td>\n",
       "      <td>ppap_risk</td>\n",
       "    </tr>\n",
       "    <tr>\n",
       "      <th>19</th>\n",
       "      <td>1.126409</td>\n",
       "      <td>stop_auto_buy</td>\n",
       "    </tr>\n",
       "    <tr>\n",
       "      <th>20</th>\n",
       "      <td>1.021901</td>\n",
       "      <td>rev_stop</td>\n",
       "    </tr>\n",
       "  </tbody>\n",
       "</table>\n",
       "</div>"
      ],
      "text/plain": [
       "            VIF           Features\n",
       "0      5.940944       national_inv\n",
       "1      1.066662          lead_time\n",
       "2      1.792865     in_transit_qty\n",
       "3    703.150833   forecast_3_month\n",
       "4   7104.115768   forecast_6_month\n",
       "5   5858.998007   forecast_9_month\n",
       "6    364.018624      sales_1_month\n",
       "7   2091.142745      sales_3_month\n",
       "8   7578.390952      sales_6_month\n",
       "9   4337.186397      sales_9_month\n",
       "10    58.612060           min_bank\n",
       "11     1.002710    potential_issue\n",
       "12    12.917964    pieces_past_due\n",
       "13     7.029094   perf_6_month_avg\n",
       "14     7.031116  perf_12_month_avg\n",
       "15     1.224376       local_bo_qty\n",
       "16     1.039206          deck_risk\n",
       "17     1.002156      oe_constraint\n",
       "18     1.015100          ppap_risk\n",
       "19     1.126409      stop_auto_buy\n",
       "20     1.021901           rev_stop"
      ]
     },
     "execution_count": 131,
     "metadata": {},
     "output_type": "execute_result"
    }
   ],
   "source": [
    "vif"
   ]
  },
  {
   "cell_type": "code",
   "execution_count": 132,
   "metadata": {},
   "outputs": [
    {
     "data": {
      "text/plain": [
       "VIF         9\n",
       "Features    9\n",
       "dtype: int64"
      ]
     },
     "execution_count": 132,
     "metadata": {},
     "output_type": "execute_result"
    }
   ],
   "source": [
    "vif[vif[\"VIF\"]>8].count()"
   ]
  },
  {
   "cell_type": "code",
   "execution_count": 134,
   "metadata": {},
   "outputs": [
    {
     "data": {
      "image/png": "[encoded data removed]",
      "text/plain": [
       "<Figure size 432x288 with 1 Axes>"
      ]
     },
     "metadata": {},
     "output_type": "display_data"
    }
   ],
   "source": [
    "from sklearn.decomposition import PCA\n",
    "import numpy as np\n",
    "pca = PCA()\n",
    "principalComponents = pca.fit_transform(X_scaled)\n",
    "plot.figure()\n",
    "plot.plot(np.cumsum(pca.explained_variance_ratio_))\n",
    "plot.xlabel('Number of Components')\n",
    "plot.ylabel('Variance (%)') #for each component\n",
    "plot.title('Explained Variance')\n",
    "plot.show()"
   ]
  },
  {
   "cell_type": "code",
   "execution_count": 136,
   "metadata": {},
   "outputs": [],
   "source": [
    "pca = PCA(n_components=10)\n",
    "new_data = pca.fit_transform(X_scaled_data)\n",
    "\n",
    "principal_x = pd.DataFrame(new_data,columns=['PC-1','PC-2','PC-3','PC-4','PC-5','PC-6','PC-7','PC-8','PC-9','PC-10'])"
   ]
  },
  {
   "cell_type": "code",
   "execution_count": 137,
   "metadata": {},
   "outputs": [
    {
     "data": {
      "text/html": [
       "<div>\n",
       "<style scoped>\n",
       "    .dataframe tbody tr th:only-of-type {\n",
       "        vertical-align: middle;\n",
       "    }\n",
       "\n",
       "    .dataframe tbody tr th {\n",
       "        vertical-align: top;\n",
       "    }\n",
       "\n",
       "    .dataframe thead th {\n",
       "        text-align: right;\n",
       "    }\n",
       "</style>\n",
       "<table border=\"1\" class=\"dataframe\">\n",
       "  <thead>\n",
       "    <tr style=\"text-align: right;\">\n",
       "      <th></th>\n",
       "      <th>PC-1</th>\n",
       "      <th>PC-2</th>\n",
       "      <th>PC-3</th>\n",
       "      <th>PC-4</th>\n",
       "      <th>PC-5</th>\n",
       "      <th>PC-6</th>\n",
       "      <th>PC-7</th>\n",
       "      <th>PC-8</th>\n",
       "      <th>PC-9</th>\n",
       "      <th>PC-10</th>\n",
       "    </tr>\n",
       "  </thead>\n",
       "  <tbody>\n",
       "    <tr>\n",
       "      <th>0</th>\n",
       "      <td>-0.149884</td>\n",
       "      <td>-0.463745</td>\n",
       "      <td>-0.724792</td>\n",
       "      <td>-0.350601</td>\n",
       "      <td>0.320195</td>\n",
       "      <td>-0.039117</td>\n",
       "      <td>-0.930309</td>\n",
       "      <td>1.178327</td>\n",
       "      <td>0.350979</td>\n",
       "      <td>0.688305</td>\n",
       "    </tr>\n",
       "    <tr>\n",
       "      <th>1</th>\n",
       "      <td>-0.149455</td>\n",
       "      <td>-0.313721</td>\n",
       "      <td>-0.228511</td>\n",
       "      <td>-0.789262</td>\n",
       "      <td>0.420832</td>\n",
       "      <td>0.037364</td>\n",
       "      <td>-0.838354</td>\n",
       "      <td>1.024170</td>\n",
       "      <td>0.122048</td>\n",
       "      <td>0.171022</td>\n",
       "    </tr>\n",
       "    <tr>\n",
       "      <th>2</th>\n",
       "      <td>-0.150073</td>\n",
       "      <td>-0.330420</td>\n",
       "      <td>-0.224317</td>\n",
       "      <td>-0.734190</td>\n",
       "      <td>0.363906</td>\n",
       "      <td>0.068246</td>\n",
       "      <td>-0.715459</td>\n",
       "      <td>0.879503</td>\n",
       "      <td>0.071071</td>\n",
       "      <td>0.135083</td>\n",
       "    </tr>\n",
       "    <tr>\n",
       "      <th>3</th>\n",
       "      <td>-0.166764</td>\n",
       "      <td>-0.143308</td>\n",
       "      <td>0.524941</td>\n",
       "      <td>0.189748</td>\n",
       "      <td>0.054291</td>\n",
       "      <td>-1.580767</td>\n",
       "      <td>-0.673426</td>\n",
       "      <td>0.370735</td>\n",
       "      <td>0.823763</td>\n",
       "      <td>1.712406</td>\n",
       "    </tr>\n",
       "    <tr>\n",
       "      <th>4</th>\n",
       "      <td>-0.150427</td>\n",
       "      <td>-0.300593</td>\n",
       "      <td>-0.231159</td>\n",
       "      <td>-0.723563</td>\n",
       "      <td>0.352641</td>\n",
       "      <td>0.075198</td>\n",
       "      <td>-0.690968</td>\n",
       "      <td>0.849970</td>\n",
       "      <td>0.060854</td>\n",
       "      <td>0.129523</td>\n",
       "    </tr>\n",
       "    <tr>\n",
       "      <th>...</th>\n",
       "      <td>...</td>\n",
       "      <td>...</td>\n",
       "      <td>...</td>\n",
       "      <td>...</td>\n",
       "      <td>...</td>\n",
       "      <td>...</td>\n",
       "      <td>...</td>\n",
       "      <td>...</td>\n",
       "      <td>...</td>\n",
       "      <td>...</td>\n",
       "    </tr>\n",
       "    <tr>\n",
       "      <th>8468</th>\n",
       "      <td>-0.160891</td>\n",
       "      <td>0.152140</td>\n",
       "      <td>0.911591</td>\n",
       "      <td>2.771873</td>\n",
       "      <td>-0.696387</td>\n",
       "      <td>-1.544995</td>\n",
       "      <td>-0.124271</td>\n",
       "      <td>-0.494721</td>\n",
       "      <td>1.340664</td>\n",
       "      <td>-0.348088</td>\n",
       "    </tr>\n",
       "    <tr>\n",
       "      <th>8469</th>\n",
       "      <td>-0.124008</td>\n",
       "      <td>-0.212563</td>\n",
       "      <td>0.101401</td>\n",
       "      <td>-1.042334</td>\n",
       "      <td>0.448072</td>\n",
       "      <td>0.111127</td>\n",
       "      <td>-0.687833</td>\n",
       "      <td>0.818965</td>\n",
       "      <td>-0.067579</td>\n",
       "      <td>-0.199830</td>\n",
       "    </tr>\n",
       "    <tr>\n",
       "      <th>8470</th>\n",
       "      <td>-0.089465</td>\n",
       "      <td>-0.287803</td>\n",
       "      <td>-0.232990</td>\n",
       "      <td>-0.250327</td>\n",
       "      <td>-0.116754</td>\n",
       "      <td>0.353189</td>\n",
       "      <td>0.376248</td>\n",
       "      <td>-0.400085</td>\n",
       "      <td>-0.364606</td>\n",
       "      <td>-0.172590</td>\n",
       "    </tr>\n",
       "    <tr>\n",
       "      <th>8471</th>\n",
       "      <td>-0.138471</td>\n",
       "      <td>-0.256326</td>\n",
       "      <td>-0.235942</td>\n",
       "      <td>-0.259740</td>\n",
       "      <td>0.006551</td>\n",
       "      <td>0.392199</td>\n",
       "      <td>0.385218</td>\n",
       "      <td>-0.398175</td>\n",
       "      <td>-0.261911</td>\n",
       "      <td>-0.148858</td>\n",
       "    </tr>\n",
       "    <tr>\n",
       "      <th>8472</th>\n",
       "      <td>-0.150176</td>\n",
       "      <td>0.079033</td>\n",
       "      <td>0.933342</td>\n",
       "      <td>2.904767</td>\n",
       "      <td>-0.640889</td>\n",
       "      <td>-1.397618</td>\n",
       "      <td>0.225188</td>\n",
       "      <td>-0.872772</td>\n",
       "      <td>1.372793</td>\n",
       "      <td>-0.412435</td>\n",
       "    </tr>\n",
       "  </tbody>\n",
       "</table>\n",
       "<p>8473 rows × 10 columns</p>\n",
       "</div>"
      ],
      "text/plain": [
       "          PC-1      PC-2      PC-3      PC-4      PC-5      PC-6      PC-7  \\\n",
       "0    -0.149884 -0.463745 -0.724792 -0.350601  0.320195 -0.039117 -0.930309   \n",
       "1    -0.149455 -0.313721 -0.228511 -0.789262  0.420832  0.037364 -0.838354   \n",
       "2    -0.150073 -0.330420 -0.224317 -0.734190  0.363906  0.068246 -0.715459   \n",
       "3    -0.166764 -0.143308  0.524941  0.189748  0.054291 -1.580767 -0.673426   \n",
       "4    -0.150427 -0.300593 -0.231159 -0.723563  0.352641  0.075198 -0.690968   \n",
       "...        ...       ...       ...       ...       ...       ...       ...   \n",
       "8468 -0.160891  0.152140  0.911591  2.771873 -0.696387 -1.544995 -0.124271   \n",
       "8469 -0.124008 -0.212563  0.101401 -1.042334  0.448072  0.111127 -0.687833   \n",
       "8470 -0.089465 -0.287803 -0.232990 -0.250327 -0.116754  0.353189  0.376248   \n",
       "8471 -0.138471 -0.256326 -0.235942 -0.259740  0.006551  0.392199  0.385218   \n",
       "8472 -0.150176  0.079033  0.933342  2.904767 -0.640889 -1.397618  0.225188   \n",
       "\n",
       "          PC-8      PC-9     PC-10  \n",
       "0     1.178327  0.350979  0.688305  \n",
       "1     1.024170  0.122048  0.171022  \n",
       "2     0.879503  0.071071  0.135083  \n",
       "3     0.370735  0.823763  1.712406  \n",
       "4     0.849970  0.060854  0.129523  \n",
       "...        ...       ...       ...  \n",
       "8468 -0.494721  1.340664 -0.348088  \n",
       "8469  0.818965 -0.067579 -0.199830  \n",
       "8470 -0.400085 -0.364606 -0.172590  \n",
       "8471 -0.398175 -0.261911 -0.148858  \n",
       "8472 -0.872772  1.372793 -0.412435  \n",
       "\n",
       "[8473 rows x 10 columns]"
      ]
     },
     "execution_count": 137,
     "metadata": {},
     "output_type": "execute_result"
    }
   ],
   "source": [
    "principal_x"
   ]
  },
  {
   "cell_type": "code",
   "execution_count": 138,
   "metadata": {},
   "outputs": [],
   "source": [
    "from statsmodels.stats.outliers_influence import variance_inflation_factor\n",
    "variables = principal_x.values\n",
    "\n",
    "# we create a new data frame which will include all the VIFs\n",
    "# note that each variable has its own variance inflation factor as this measure is variable specific (not model specific)\n",
    "# we do not include categorical values for mulitcollinearity as they do not provide much information as numerical ones do\n",
    "vif = pd.DataFrame()\n",
    "\n",
    "# here we make use of the variance_inflation_factor, which will basically output the respective VIFs \n",
    "vif[\"VIF\"] = [variance_inflation_factor(variables, i) for i in range(variables.shape[1])]\n",
    "# Finally, I like to include names so it is easier to explore the result\n",
    "vif[\"Features\"] = principal_x.columns"
   ]
  },
  {
   "cell_type": "code",
   "execution_count": 139,
   "metadata": {},
   "outputs": [
    {
     "data": {
      "text/html": [
       "<div>\n",
       "<style scoped>\n",
       "    .dataframe tbody tr th:only-of-type {\n",
       "        vertical-align: middle;\n",
       "    }\n",
       "\n",
       "    .dataframe tbody tr th {\n",
       "        vertical-align: top;\n",
       "    }\n",
       "\n",
       "    .dataframe thead th {\n",
       "        text-align: right;\n",
       "    }\n",
       "</style>\n",
       "<table border=\"1\" class=\"dataframe\">\n",
       "  <thead>\n",
       "    <tr style=\"text-align: right;\">\n",
       "      <th></th>\n",
       "      <th>VIF</th>\n",
       "      <th>Features</th>\n",
       "    </tr>\n",
       "  </thead>\n",
       "  <tbody>\n",
       "    <tr>\n",
       "      <th>0</th>\n",
       "      <td>1.0</td>\n",
       "      <td>PC-1</td>\n",
       "    </tr>\n",
       "    <tr>\n",
       "      <th>1</th>\n",
       "      <td>1.0</td>\n",
       "      <td>PC-2</td>\n",
       "    </tr>\n",
       "    <tr>\n",
       "      <th>2</th>\n",
       "      <td>1.0</td>\n",
       "      <td>PC-3</td>\n",
       "    </tr>\n",
       "    <tr>\n",
       "      <th>3</th>\n",
       "      <td>1.0</td>\n",
       "      <td>PC-4</td>\n",
       "    </tr>\n",
       "    <tr>\n",
       "      <th>4</th>\n",
       "      <td>1.0</td>\n",
       "      <td>PC-5</td>\n",
       "    </tr>\n",
       "    <tr>\n",
       "      <th>5</th>\n",
       "      <td>1.0</td>\n",
       "      <td>PC-6</td>\n",
       "    </tr>\n",
       "    <tr>\n",
       "      <th>6</th>\n",
       "      <td>1.0</td>\n",
       "      <td>PC-7</td>\n",
       "    </tr>\n",
       "    <tr>\n",
       "      <th>7</th>\n",
       "      <td>1.0</td>\n",
       "      <td>PC-8</td>\n",
       "    </tr>\n",
       "    <tr>\n",
       "      <th>8</th>\n",
       "      <td>1.0</td>\n",
       "      <td>PC-9</td>\n",
       "    </tr>\n",
       "    <tr>\n",
       "      <th>9</th>\n",
       "      <td>1.0</td>\n",
       "      <td>PC-10</td>\n",
       "    </tr>\n",
       "  </tbody>\n",
       "</table>\n",
       "</div>"
      ],
      "text/plain": [
       "   VIF Features\n",
       "0  1.0     PC-1\n",
       "1  1.0     PC-2\n",
       "2  1.0     PC-3\n",
       "3  1.0     PC-4\n",
       "4  1.0     PC-5\n",
       "5  1.0     PC-6\n",
       "6  1.0     PC-7\n",
       "7  1.0     PC-8\n",
       "8  1.0     PC-9\n",
       "9  1.0    PC-10"
      ]
     },
     "execution_count": 139,
     "metadata": {},
     "output_type": "execute_result"
    }
   ],
   "source": [
    "vif"
   ]
  },
  {
   "cell_type": "markdown",
   "metadata": {},
   "source": [
    "#### Data ImBalance"
   ]
  },
  {
   "cell_type": "code",
   "execution_count": 135,
   "metadata": {},
   "outputs": [
    {
     "data": {
      "text/plain": [
       "<matplotlib.axes._subplots.AxesSubplot at 0x21e78a7d348>"
      ]
     },
     "execution_count": 135,
     "metadata": {},
     "output_type": "execute_result"
    },
    {
     "data": {
      "image/png": "[encoded data removed]",
      "text/plain": [
       "<Figure size 432x288 with 1 Axes>"
      ]
     },
     "metadata": {},
     "output_type": "display_data"
    }
   ],
   "source": [
    "sns.countplot(y)"
   ]
  },
  {
   "cell_type": "markdown",
   "metadata": {},
   "source": [
    "Looks fairly balanced. We can go ahead without handling the imbalance."
   ]
  },
  {
   "cell_type": "code",
   "execution_count": 107,
   "metadata": {},
   "outputs": [],
   "source": [
    "from sklearn.model_selection import train_test_split"
   ]
  },
  {
   "cell_type": "code",
   "execution_count": 140,
   "metadata": {},
   "outputs": [],
   "source": [
    "x_train, x_test, y_train,y_test = train_test_split(principal_x,y,test_size = 0.3)"
   ]
  },
  {
   "cell_type": "code",
   "execution_count": 141,
   "metadata": {},
   "outputs": [],
   "source": [
    "from sklearn.ensemble import RandomForestClassifier\n",
    "\n",
    "from sklearn.linear_model import LogisticRegression"
   ]
  },
  {
   "cell_type": "code",
   "execution_count": 142,
   "metadata": {},
   "outputs": [],
   "source": [
    "rf = RandomForestClassifier()"
   ]
  },
  {
   "cell_type": "code",
   "execution_count": 143,
   "metadata": {},
   "outputs": [],
   "source": [
    "lr = LogisticRegression()"
   ]
  },
  {
   "cell_type": "code",
   "execution_count": 155,
   "metadata": {},
   "outputs": [
    {
     "data": {
      "text/plain": [
       "RandomForestClassifier(bootstrap=True, class_weight=None, criterion='gini',\n",
       "                       max_depth=None, max_features='auto', max_leaf_nodes=None,\n",
       "                       min_impurity_decrease=0.0, min_impurity_split=None,\n",
       "                       min_samples_leaf=1, min_samples_split=2,\n",
       "                       min_weight_fraction_leaf=0.0, n_estimators=10,\n",
       "                       n_jobs=None, oob_score=False, random_state=None,\n",
       "                       verbose=0, warm_start=False)"
      ]
     },
     "execution_count": 155,
     "metadata": {},
     "output_type": "execute_result"
    }
   ],
   "source": [
    "rf.fit(x_train,y_train)"
   ]
  },
  {
   "cell_type": "code",
   "execution_count": 156,
   "metadata": {},
   "outputs": [
    {
     "data": {
      "text/plain": [
       "0.9834766481200472"
      ]
     },
     "execution_count": 156,
     "metadata": {},
     "output_type": "execute_result"
    }
   ],
   "source": [
    "rf.score(x_train,y_train)"
   ]
  },
  {
   "cell_type": "code",
   "execution_count": 157,
   "metadata": {},
   "outputs": [
    {
     "data": {
      "text/plain": [
       "0.6585365853658537"
      ]
     },
     "execution_count": 157,
     "metadata": {},
     "output_type": "execute_result"
    }
   ],
   "source": [
    "rf.score(x_test,y_test)"
   ]
  },
  {
   "cell_type": "code",
   "execution_count": 147,
   "metadata": {},
   "outputs": [],
   "source": [
    "pred = rf.predict(x_test)"
   ]
  },
  {
   "cell_type": "code",
   "execution_count": 148,
   "metadata": {},
   "outputs": [
    {
     "data": {
      "text/plain": [
       "array([ 0,  1, -1], dtype=int64)"
      ]
     },
     "execution_count": 148,
     "metadata": {},
     "output_type": "execute_result"
    }
   ],
   "source": [
    "(pred - y_test).unique()"
   ]
  },
  {
   "cell_type": "code",
   "execution_count": 150,
   "metadata": {},
   "outputs": [
    {
     "data": {
      "text/html": [
       "<div>\n",
       "<style scoped>\n",
       "    .dataframe tbody tr th:only-of-type {\n",
       "        vertical-align: middle;\n",
       "    }\n",
       "\n",
       "    .dataframe tbody tr th {\n",
       "        vertical-align: top;\n",
       "    }\n",
       "\n",
       "    .dataframe thead th {\n",
       "        text-align: right;\n",
       "    }\n",
       "</style>\n",
       "<table border=\"1\" class=\"dataframe\">\n",
       "  <thead>\n",
       "    <tr style=\"text-align: right;\">\n",
       "      <th></th>\n",
       "      <th>0</th>\n",
       "    </tr>\n",
       "  </thead>\n",
       "  <tbody>\n",
       "    <tr>\n",
       "      <th>0.187219</th>\n",
       "      <td>PC-1</td>\n",
       "    </tr>\n",
       "    <tr>\n",
       "      <th>0.114354</th>\n",
       "      <td>PC-2</td>\n",
       "    </tr>\n",
       "    <tr>\n",
       "      <th>0.119211</th>\n",
       "      <td>PC-3</td>\n",
       "    </tr>\n",
       "    <tr>\n",
       "      <th>0.087499</th>\n",
       "      <td>PC-4</td>\n",
       "    </tr>\n",
       "    <tr>\n",
       "      <th>0.079951</th>\n",
       "      <td>PC-5</td>\n",
       "    </tr>\n",
       "    <tr>\n",
       "      <th>0.083593</th>\n",
       "      <td>PC-6</td>\n",
       "    </tr>\n",
       "    <tr>\n",
       "      <th>0.079834</th>\n",
       "      <td>PC-7</td>\n",
       "    </tr>\n",
       "    <tr>\n",
       "      <th>0.076999</th>\n",
       "      <td>PC-8</td>\n",
       "    </tr>\n",
       "    <tr>\n",
       "      <th>0.082315</th>\n",
       "      <td>PC-9</td>\n",
       "    </tr>\n",
       "    <tr>\n",
       "      <th>0.089024</th>\n",
       "      <td>PC-10</td>\n",
       "    </tr>\n",
       "  </tbody>\n",
       "</table>\n",
       "</div>"
      ],
      "text/plain": [
       "              0\n",
       "0.187219   PC-1\n",
       "0.114354   PC-2\n",
       "0.119211   PC-3\n",
       "0.087499   PC-4\n",
       "0.079951   PC-5\n",
       "0.083593   PC-6\n",
       "0.079834   PC-7\n",
       "0.076999   PC-8\n",
       "0.082315   PC-9\n",
       "0.089024  PC-10"
      ]
     },
     "execution_count": 150,
     "metadata": {},
     "output_type": "execute_result"
    }
   ],
   "source": [
    "pd.DataFrame(principal_x.columns,(rf.feature_importances_))"
   ]
  },
  {
   "cell_type": "code",
   "execution_count": 151,
   "metadata": {},
   "outputs": [
    {
     "name": "stderr",
     "output_type": "stream",
     "text": [
      "C:\\ProgramData\\Anaconda3\\lib\\site-packages\\sklearn\\linear_model\\logistic.py:432: FutureWarning: Default solver will be changed to 'lbfgs' in 0.22. Specify a solver to silence this warning.\n",
      "  FutureWarning)\n"
     ]
    },
    {
     "data": {
      "text/plain": [
       "LogisticRegression(C=1.0, class_weight=None, dual=False, fit_intercept=True,\n",
       "                   intercept_scaling=1, l1_ratio=None, max_iter=100,\n",
       "                   multi_class='warn', n_jobs=None, penalty='l2',\n",
       "                   random_state=None, solver='warn', tol=0.0001, verbose=0,\n",
       "                   warm_start=False)"
      ]
     },
     "execution_count": 151,
     "metadata": {},
     "output_type": "execute_result"
    }
   ],
   "source": [
    "lr.fit(x_train,y_train)"
   ]
  },
  {
   "cell_type": "code",
   "execution_count": 152,
   "metadata": {},
   "outputs": [
    {
     "data": {
      "text/plain": [
       "0.7053501180173092"
      ]
     },
     "execution_count": 152,
     "metadata": {},
     "output_type": "execute_result"
    }
   ],
   "source": [
    "lr.score(x_test,y_test)"
   ]
  },
  {
   "cell_type": "code",
   "execution_count": null,
   "metadata": {},
   "outputs": [],
   "source": []
  }
 ],
 "metadata": {
  "kernelspec": {
   "name": "python3",
   "display_name": "Python 3.6.13 64-bit ('backorder': conda)"
  },
  "language_info": {
   "codemirror_mode": {
    "name": "ipython",
    "version": 3
   },
   "file_extension": ".py",
   "mimetype": "text/x-python",
   "name": "python",
   "nbconvert_exporter": "python",
   "pygments_lexer": "ipython3",
   "version": "3.6.13"
  },
  "interpreter": {
   "hash": "f2407cfcfb470f0fea11edaf7b6791c03aaa5c952838c26d3f3550679448f3d6"
  }
 },
 "nbformat": 4,
 "nbformat_minor": 4
}